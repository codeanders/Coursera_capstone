{
 "cells": [
  {
   "cell_type": "markdown",
   "metadata": {},
   "source": [
    "## Battle of the Neighborhoods - Week 1"
   ]
  },
  {
   "cell_type": "markdown",
   "metadata": {},
   "source": [
    "#### Introduction/Business Problem"
   ]
  },
  {
   "cell_type": "markdown",
   "metadata": {},
   "source": [
    "As the owner of a hair/nail salon, I am looking to figure out what neighbourhood would work best as the location of my new business."
   ]
  },
  {
   "cell_type": "markdown",
   "metadata": {},
   "source": [
    "Hair/nail salons have a specific clientele, wanting a higher number of female residents as well as residents with disposable income to spare. So ideally the neighbourhood for this new business would have to have a high enough female population and a medium to high average income. However, it would be good to see the actual data around where salons exist, especially if it counters that concept. Perhaps we'll see that lower income areas are more welcoming for a salon.\n",
    "\n",
    "Additionally, I wouldn't want to place my business in a location that is already filled with salons. A new business might not do well with stiff competition who might already have loyal clients that can't be swayed away. However, it also might not be good to start a salon in an area with absolutely no salons at all, as there might be a reason why that type of business has failed in the past.\n",
    "\n",
    "Information on how salons are already spread throughout the city, along with information like income, could help me figure out what part of the city would work best for my new business."
   ]
  },
  {
   "cell_type": "markdown",
   "metadata": {},
   "source": [
    "#### Data"
   ]
  },
  {
   "cell_type": "markdown",
   "metadata": {},
   "source": [
    "Data on neighbourhood businesses can be found on FourSquare, with the categories telling what type of business it is. There are two types of salon listed, and seeing where those categories line up compared to everything else can be useful in determining a neighbourhood"
   ]
  },
  {
   "cell_type": "markdown",
   "metadata": {},
   "source": [
    "Data on population demographics, such as population, average income, female population and more can be found on Toronto's Open Data Portal: https://open.toronto.ca/\n",
    "\n",
    "Most data sets are available to download as a csv or excel file, and there is fairly recent neighbourhood and demographics data that I intend to pull and use.\n",
    "\n",
    "The first dataset is a simple geographic dataset with coordinates for all 140 Toronto neighbourhoods. This will be useful for sending to Foursquare to get venue information, as latitude and longitude are two variable that we pass into the GET function.\n",
    "\n",
    "The second dataset is a set of census data from 2008 and 2011, with details on each Toronto neighbourhood with information like: total population, male/female population, average income, total area, education, employed/unemployed, etc. This can be useful in comparing against what types of venues are popular in each neighbourhood and cluster"
   ]
  },
  {
   "cell_type": "code",
   "execution_count": null,
   "metadata": {},
   "outputs": [],
   "source": []
  }
 ],
 "metadata": {
  "kernelspec": {
   "display_name": "Python 3",
   "language": "python",
   "name": "python3"
  },
  "language_info": {
   "codemirror_mode": {
    "name": "ipython",
    "version": 3
   },
   "file_extension": ".py",
   "mimetype": "text/x-python",
   "name": "python",
   "nbconvert_exporter": "python",
   "pygments_lexer": "ipython3",
   "version": "3.7.6"
  }
 },
 "nbformat": 4,
 "nbformat_minor": 4
}
